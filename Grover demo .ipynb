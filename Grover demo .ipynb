{
 "cells": [
  {
   "cell_type": "code",
   "execution_count": 1,
   "id": "c97d9340",
   "metadata": {},
   "outputs": [],
   "source": [
    "import numpy as np"
   ]
  },
  {
   "cell_type": "code",
   "execution_count": 94,
   "id": "699890c5",
   "metadata": {},
   "outputs": [],
   "source": [
    "#Define tensor product of n simar gates, we need this function for hadmard product\n",
    "def Hadmard_product(A, n):\n",
    "    result = np.array([[1]])\n",
    "    for i in range(n):\n",
    "        result = np.kron(result, A)\n",
    "    return result"
   ]
  },
  {
   "cell_type": "code",
   "execution_count": 96,
   "id": "cdb8b713",
   "metadata": {},
   "outputs": [
    {
     "name": "stdout",
     "output_type": "stream",
     "text": [
      "[[ 0.5  0.5  0.5  0.5]\n",
      " [ 0.5 -0.5  0.5 -0.5]\n",
      " [ 0.5  0.5 -0.5 -0.5]\n",
      " [ 0.5 -0.5 -0.5  0.5]]\n"
     ]
    }
   ],
   "source": [
    "#Sanity check, verifying hadmard to 2 gates\n",
    "A = (1 / np.sqrt(2)) *np.array([[1, 1], [1, -1]])\n",
    "result = Hadmard_product(A, 2)\n",
    "print(result)"
   ]
  },
  {
   "cell_type": "code",
   "execution_count": 97,
   "id": "862b3b2e",
   "metadata": {},
   "outputs": [],
   "source": [
    "#This will make oracle matrix, given n state and kth target\n",
    "def make_oracle(n, k):\n",
    "    I = np.identity(2**n)\n",
    "    v = np.zeros(2**n)\n",
    "    v[k] = 1\n",
    "    return 2 * np.outer(v, v) - I"
   ]
  },
  {
   "cell_type": "code",
   "execution_count": 59,
   "id": "628107ae",
   "metadata": {},
   "outputs": [
    {
     "name": "stdout",
     "output_type": "stream",
     "text": [
      "[[-1.  0.  0.  0.  0.  0.  0.  0.]\n",
      " [ 0.  1.  0.  0.  0.  0.  0.  0.]\n",
      " [ 0.  0. -1.  0.  0.  0.  0.  0.]\n",
      " [ 0.  0.  0. -1.  0.  0.  0.  0.]\n",
      " [ 0.  0.  0.  0. -1.  0.  0.  0.]\n",
      " [ 0.  0.  0.  0.  0. -1.  0.  0.]\n",
      " [ 0.  0.  0.  0.  0.  0. -1.  0.]\n",
      " [ 0.  0.  0.  0.  0.  0.  0. -1.]]\n"
     ]
    }
   ],
   "source": [
    "#Check, 3 state will give 2**3 dimention matrix \n",
    "result = make_oracle(3, 1)\n",
    "print(result)"
   ]
  },
  {
   "cell_type": "code",
   "execution_count": 98,
   "id": "6b785c81",
   "metadata": {},
   "outputs": [],
   "source": [
    "#convert a given number of state, with kth target. Make N vectors accordingle\n",
    "def write_vectors(n,k):\n",
    "    vectors =np.array([np.array([1,0]) for i in range(n)])\n",
    "    vectors[k] = np.array([0,1])\n",
    "    return vectors"
   ]
  },
  {
   "cell_type": "code",
   "execution_count": 100,
   "id": "a2e96cf2",
   "metadata": {},
   "outputs": [
    {
     "data": {
      "text/plain": [
       "array([[1, 0],\n",
       "       [1, 0],\n",
       "       [0, 1],\n",
       "       [1, 0],\n",
       "       [1, 0]])"
      ]
     },
     "execution_count": 100,
     "metadata": {},
     "output_type": "execute_result"
    }
   ],
   "source": [
    "#a 5 state system with 2nd target \n",
    "V=write_vectors(5,2)\n",
    "V"
   ]
  },
  {
   "cell_type": "code",
   "execution_count": 101,
   "id": "65e789cd",
   "metadata": {},
   "outputs": [],
   "source": [
    "# State needs to be tensor product before we can use matrix product\n",
    "def tensor_product(vectors):\n",
    "    result = np.array([1])\n",
    "    for v in vectors:\n",
    "        result = np.kron(result, v)\n",
    "    return result"
   ]
  },
  {
   "cell_type": "code",
   "execution_count": 103,
   "id": "c27dc95f",
   "metadata": {},
   "outputs": [
    {
     "data": {
      "text/plain": [
       "array([0, 0, 0, 0, 1, 0, 0, 0, 0, 0, 0, 0, 0, 0, 0, 0, 0, 0, 0, 0, 0, 0,\n",
       "       0, 0, 0, 0, 0, 0, 0, 0, 0, 0])"
      ]
     },
     "execution_count": 103,
     "metadata": {},
     "output_type": "execute_result"
    }
   ],
   "source": [
    "#This is a tensor product state\n",
    "tensor_product(V)"
   ]
  },
  {
   "cell_type": "code",
   "execution_count": 104,
   "id": "3105e33c",
   "metadata": {},
   "outputs": [],
   "source": [
    "#Grovers algorith\n",
    "#1) Apply hadmard to all states\n",
    "#2) Apply orakle, then diffuser then hadmard\n",
    "#3) Apply second step int(np.pi * np.sqrt(2**N) / 4) times\n",
    "\n",
    "\n",
    "def grover(N, target):\n",
    "    \n",
    "    \n",
    "    # Define the Hadamard matrix\n",
    "    H = (1 / np.sqrt(2)) * np.array([[1, 1], [1, -1]], dtype=complex)\n",
    "\n",
    "    \n",
    "    # Initialize the quantum state\n",
    "    V = write_vectors(N,target)\n",
    "    state = tensor_product(V)\n",
    "    initial_state = tensor_product(V)\n",
    "    \n",
    "\n",
    "    # Define the Hadamard_tensor gate   \n",
    "    H_tensor = Hadmard_product(H, N)   \n",
    "\n",
    "\n",
    "    # Define the oracle tensor that marks the target state\n",
    "    oracle_tensor=make_oracle(N, target)\n",
    "    \n",
    "    \n",
    "    # Define the diffusion operation\n",
    "    # ? need to add here\n",
    "    \n",
    "    \n",
    "    #first hadmard opretaion before sending to iterator\n",
    "    state = np.dot(H_tensor, state)\n",
    "\n",
    "    # Apply the oracle and diffusion operators(in ineration)\n",
    "    for i in range(int(np.pi * np.sqrt(2**N) / 4)):\n",
    "        \n",
    "        \n",
    "        #Apply orackle here\n",
    "        state = np.dot(oracle_tensor,state)\n",
    "    \n",
    "        \n",
    "        # Apply the Hadamard gate to all qubits\n",
    "        state = np.dot(H_tensor, state)\n",
    "        \n",
    "        \n",
    "        #Diffuser operator comes here    \n",
    "        #?\n",
    "        \n",
    "        \n",
    "        #hadmard to all\n",
    "        #state = np.dot(H_tensor, state)\n",
    "\n",
    "    # Measure the qubits\n",
    "    prob = np.abs(state[target])**2\n",
    "\n",
    "    return state #V, initial_state , prob\n",
    "#This will give abserd result as diffuser operator is not defined, But try switching output to state, V,\n",
    "#initial state and prob to get sense of intermediate results."
   ]
  },
  {
   "cell_type": "code",
   "execution_count": 110,
   "id": "c69405b2",
   "metadata": {},
   "outputs": [
    {
     "data": {
      "text/plain": [
       "array([ 3.66353722e-05+0.j,  3.66353722e-05+0.j,  7.89158981e-03+0.j, ...,\n",
       "        3.66353722e-05+0.j, -3.66353722e-05+0.j, -3.66353722e-05+0.j])"
      ]
     },
     "execution_count": 110,
     "metadata": {},
     "output_type": "execute_result"
    }
   ],
   "source": [
    "grover(13,2)"
   ]
  },
  {
   "cell_type": "code",
   "execution_count": 106,
   "id": "6e2527bb",
   "metadata": {},
   "outputs": [
    {
     "data": {
      "text/plain": [
       "array([ 0.19611165+0.j,  0.19611165+0.j,  0.11324757+0.j,  0.15744174+0.j,\n",
       "       -0.15744174+0.j, -0.15744174+0.j, -0.19611165+0.j, -0.19611165+0.j,\n",
       "        0.19611165+0.j,  0.19611165+0.j,  0.15744174+0.j,  0.15744174+0.j,\n",
       "       -0.15744174+0.j, -0.15744174+0.j, -0.19611165+0.j, -0.19611165+0.j,\n",
       "        0.19611165+0.j,  0.19611165+0.j,  0.15744174+0.j,  0.15744174+0.j,\n",
       "       -0.15744174+0.j, -0.15744174+0.j, -0.19611165+0.j, -0.19611165+0.j,\n",
       "        0.19611165+0.j,  0.19611165+0.j,  0.15744174+0.j,  0.15744174+0.j,\n",
       "       -0.15744174+0.j, -0.15744174+0.j, -0.19611165+0.j, -0.19611165+0.j])"
      ]
     },
     "execution_count": 106,
     "metadata": {},
     "output_type": "execute_result"
    }
   ],
   "source": [
    "grover(5,2)"
   ]
  },
  {
   "cell_type": "code",
   "execution_count": null,
   "id": "618b8c95",
   "metadata": {},
   "outputs": [],
   "source": []
  }
 ],
 "metadata": {
  "kernelspec": {
   "display_name": "Python 3 (ipykernel)",
   "language": "python",
   "name": "python3"
  },
  "language_info": {
   "codemirror_mode": {
    "name": "ipython",
    "version": 3
   },
   "file_extension": ".py",
   "mimetype": "text/x-python",
   "name": "python",
   "nbconvert_exporter": "python",
   "pygments_lexer": "ipython3",
   "version": "3.9.13"
  }
 },
 "nbformat": 4,
 "nbformat_minor": 5
}
